{
  "cells": [
    {
      "cell_type": "markdown",
      "metadata": {
        "id": "bnpr1VPKUwY9"
      },
      "source": [
        "Integrantes:   \n",
        "- Daniel Carmona\n",
        "- Consuelo Rojas\n",
        "\n",
        "En esta tarea van a crear una red neuronal que clasifique mensajes como spam o no spam. Lo primero es descargar la data:"
      ]
    },
    {
      "cell_type": "code",
      "execution_count": 1,
      "metadata": {
        "id": "ZkXXLb0VUmFX"
      },
      "outputs": [
        {
          "name": "stderr",
          "output_type": "stream",
          "text": [
            "--2022-11-29 11:52:51--  https://www.ivan-sipiran.com/downloads/spam.csv\n",
            "Resolving www.ivan-sipiran.com (www.ivan-sipiran.com)... 66.96.149.31\n",
            "Connecting to www.ivan-sipiran.com (www.ivan-sipiran.com)|66.96.149.31|:443... connected.\n",
            "HTTP request sent, awaiting response... 200 OK\n",
            "Length: 471781 (461K)\n",
            "Saving to: 'spam.csv'\n",
            "\n",
            "     0K .......... .......... .......... .......... .......... 10%  307K 1s\n",
            "    50K .......... .......... .......... .......... .......... 21%  317K 1s\n",
            "   100K .......... .......... .......... .......... .......... 32% 9.01M 1s\n",
            "   150K .......... .......... .......... .......... .......... 43%  375K 1s\n",
            "   200K .......... .......... .......... .......... .......... 54% 1.60M 0s\n",
            "   250K .......... .......... .......... .......... .......... 65% 8.43M 0s\n",
            "   300K .......... .......... .......... .......... .......... 75% 9.14M 0s\n",
            "   350K .......... .......... .......... .......... .......... 86% 7.11M 0s\n",
            "   400K .......... .......... .......... .......... .......... 97%  393K 0s\n",
            "   450K ..........                                            100%  128M=0.6s\n",
            "\n",
            "2022-11-29 11:52:53 (725 KB/s) - 'spam.csv' saved [471781/471781]\n",
            "\n"
          ]
        }
      ],
      "source": [
        "!wget https://www.ivan-sipiran.com/downloads/spam.csv"
      ]
    },
    {
      "cell_type": "markdown",
      "metadata": {
        "id": "H9567d6oVknI"
      },
      "source": [
        "Los datos vienen en un archivo CSV que contiene dos columnas \"text\" y \"label\". La columna \"text\" contiene el texto del mensaje y la columna \"label\" contiene las etiquetas \"ham\" y \"spam\". Un mensaje \"ham\" es un mensaje que no se considera spam.\n",
        "\n",
        "# Tarea \n",
        "El objetivo de la tarea es crear una red neuronal que clasifique los datos entregados. Para lograr esto debes:\n",
        "\n",
        "\n",
        "\n",
        "*   Implementar el pre-procesamiento de los datos que creas necesario.\n",
        "*   Particionar los datos en 70% entrenamiento, 10% validación y 20% test.\n",
        "*   Usa los datos de entrenamiento y valiadación para tus experimentos y sólo usa el conjunto de test para reportar el resultado final.\n",
        "\n",
        "Para el diseño de la red neuronal puedes usar una red neuronal recurrente o una red basada en transformers. El objetivo de la tarea no es obtener el performance ultra máximo, sino entender qué decisiones de diseño afectan la solución de un problema como este. Lo que si es necesario (como siempre) es que discutas los resultados y decisiones realizadas.\n",
        "\n"
      ]
    },
    {
      "cell_type": "markdown",
      "metadata": {},
      "source": [
        "# Librerías"
      ]
    },
    {
      "cell_type": "code",
      "execution_count": 19,
      "metadata": {
        "id": "5pmzo1gcVXvY"
      },
      "outputs": [],
      "source": [
        "import pandas as pd\n",
        "from sklearn.model_selection import train_test_split"
      ]
    },
    {
      "cell_type": "markdown",
      "metadata": {},
      "source": [
        "# Pre-procesamiento"
      ]
    },
    {
      "cell_type": "code",
      "execution_count": 5,
      "metadata": {},
      "outputs": [
        {
          "data": {
            "text/html": [
              "<div>\n",
              "<style scoped>\n",
              "    .dataframe tbody tr th:only-of-type {\n",
              "        vertical-align: middle;\n",
              "    }\n",
              "\n",
              "    .dataframe tbody tr th {\n",
              "        vertical-align: top;\n",
              "    }\n",
              "\n",
              "    .dataframe thead th {\n",
              "        text-align: right;\n",
              "    }\n",
              "</style>\n",
              "<table border=\"1\" class=\"dataframe\">\n",
              "  <thead>\n",
              "    <tr style=\"text-align: right;\">\n",
              "      <th></th>\n",
              "      <th>text</th>\n",
              "      <th>label</th>\n",
              "    </tr>\n",
              "  </thead>\n",
              "  <tbody>\n",
              "    <tr>\n",
              "      <th>0</th>\n",
              "      <td>Go until jurong point, crazy.. Available only ...</td>\n",
              "      <td>ham</td>\n",
              "    </tr>\n",
              "    <tr>\n",
              "      <th>1</th>\n",
              "      <td>Ok lar... Joking wif u oni...</td>\n",
              "      <td>ham</td>\n",
              "    </tr>\n",
              "    <tr>\n",
              "      <th>2</th>\n",
              "      <td>Free entry in 2 a wkly comp to win FA Cup fina...</td>\n",
              "      <td>spam</td>\n",
              "    </tr>\n",
              "    <tr>\n",
              "      <th>3</th>\n",
              "      <td>U dun say so early hor... U c already then say...</td>\n",
              "      <td>ham</td>\n",
              "    </tr>\n",
              "    <tr>\n",
              "      <th>4</th>\n",
              "      <td>Nah I don't think he goes to usf, he lives aro...</td>\n",
              "      <td>ham</td>\n",
              "    </tr>\n",
              "  </tbody>\n",
              "</table>\n",
              "</div>"
            ],
            "text/plain": [
              "                                                text label\n",
              "0  Go until jurong point, crazy.. Available only ...   ham\n",
              "1                      Ok lar... Joking wif u oni...   ham\n",
              "2  Free entry in 2 a wkly comp to win FA Cup fina...  spam\n",
              "3  U dun say so early hor... U c already then say...   ham\n",
              "4  Nah I don't think he goes to usf, he lives aro...   ham"
            ]
          },
          "metadata": {},
          "output_type": "display_data"
        }
      ],
      "source": [
        "df = pd.read_csv('spam.csv') #, encoding='latin-1')\n",
        "display(df.head())"
      ]
    },
    {
      "cell_type": "code",
      "execution_count": 11,
      "metadata": {},
      "outputs": [
        {
          "name": "stdout",
          "output_type": "stream",
          "text": [
            "['ham' 'spam' '#&gt' 'URL&gt' 'DECIMAL&gt' 'l 09064012103 box334sk38ch'\n",
            " '  &lt' ':(' ')'\n",
            " ' they wer askd 2 sit in an aeroplane. Aftr they sat they wer told dat the plane ws made by their students. Dey all hurried out of d plane.. Bt only 1 didnt move... He said:\\\\if it is made by my students'\n",
            " 'TIME&gt' ' successful day.' ' wish U Merry Xmas...'\n",
            " \" have to reach before 4'o clock so call me plz\" ' sweet dreams'\n",
            " ' HAVE A NICE SLEEP..SWEET DREAMS..'\n",
            " ' best friends.. GOODEVENING Dear..:)' \" don't worry.\"\n",
            " ' Finally It Becomes Part Of Your Life.. Follow It.. Happy Morning &amp'\n",
            " \"i'm in luv wid u. Blue\" 'Take care' nan 'abel'\n",
            " ') reminds me i still need 2go.did u c d little thing i left in the lounge?'\n",
            " \" it kills me that u don't care enough to stop me...\" '_'\n",
            " ' send this to ur frndZ &amp' ' fletcher now'\n",
            " '-) ok. I feel like john lennon.'\n",
            " ' I love u Grl: Hogolo Boy: gold chain kodstini Grl: Agalla Boy: necklace madstini Grl: agalla Boy: Hogli 1 mutai eerulli kodthini! Grl: I love U kano'\n",
            " '-) Good morning.. keep smiling:-)' ') None? People hate u:'\n",
            " ' Life is empty without frnds.. So Alwys Be In Touch. Good night &amp'\n",
            " ').' ' HAVE A SMILEY SUNDAY..:)' '-)'\n",
            " ' u dont tell me......... Take care:-)' ' If i dont make it hav gd night'\n",
            " '3' \" You didn't see my facebook huh?\" ' get up before 3'\n",
            " ' present number..:) By Rajitha Raj (Ranju)'\n",
            " '  express your love to someone....that much it will hurt when they leave you or you get seperated...!\\x8eö´\\x89Ó_??\\x8bÛ¬ud evening...'\n",
            " \" fowler now but I'm in my mom's car so I can't park (long story)\"\n",
            " ' Make happy the person you love. In the same way friendship has one law']\n"
          ]
        }
      ],
      "source": [
        "print(df[\"label\"].unique())\n",
        "# print(df[\"label\"].value_counts())"
      ]
    },
    {
      "cell_type": "code",
      "execution_count": 17,
      "metadata": {},
      "outputs": [
        {
          "name": "stdout",
          "output_type": "stream",
          "text": [
            "ham     4617\n",
            "spam     746\n",
            "Name: label, dtype: int64\n"
          ]
        }
      ],
      "source": [
        "df2 = df.apply(lambda row: row[df['label'].isin([\"ham\", \"spam\"])])\n",
        "print(df2[\"label\"].value_counts())"
      ]
    },
    {
      "cell_type": "code",
      "execution_count": 21,
      "metadata": {},
      "outputs": [],
      "source": [
        "X_train, X_test, y_train, y_test = train_test_split(df2[\"text\"], df2[\"label\"], test_size=0.2, random_state=1)\n",
        "\n",
        "X_train, X_val, y_train, y_val = train_test_split(X_train, y_train, test_size=0.125, random_state=1) # 0.125 x 0.8 = 0.1"
      ]
    },
    {
      "cell_type": "code",
      "execution_count": 23,
      "metadata": {},
      "outputs": [
        {
          "name": "stdout",
          "output_type": "stream",
          "text": [
            "train: \n",
            " ham     3245\n",
            "spam     508\n",
            "Name: label, dtype: int64\n",
            "val: \n",
            " ham     453\n",
            "spam     84\n",
            "Name: label, dtype: int64\n",
            "test: \n",
            " ham     919\n",
            "spam    154\n",
            "Name: label, dtype: int64\n"
          ]
        }
      ],
      "source": [
        "print(\"train: \\n\", y_train.value_counts())\n",
        "print(\"val: \\n\", y_val.value_counts())\n",
        "print(\"test: \\n\", y_test.value_counts())"
      ]
    }
  ],
  "metadata": {
    "colab": {
      "provenance": []
    },
    "kernelspec": {
      "display_name": "Python 3.10.2 64-bit",
      "language": "python",
      "name": "python3"
    },
    "language_info": {
      "codemirror_mode": {
        "name": "ipython",
        "version": 3
      },
      "file_extension": ".py",
      "mimetype": "text/x-python",
      "name": "python",
      "nbconvert_exporter": "python",
      "pygments_lexer": "ipython3",
      "version": "3.10.2"
    },
    "vscode": {
      "interpreter": {
        "hash": "32f2fe102a4f10662d8c13f75131e1ba377b7194060421a642fdea27c55fc65a"
      }
    }
  },
  "nbformat": 4,
  "nbformat_minor": 0
}
