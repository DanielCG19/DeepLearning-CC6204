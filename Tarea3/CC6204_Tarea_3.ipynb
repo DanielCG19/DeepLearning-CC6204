{
  "nbformat": 4,
  "nbformat_minor": 0,
  "metadata": {
    "colab": {
      "provenance": [],
      "collapsed_sections": [],
      "include_colab_link": true
    },
    "kernelspec": {
      "name": "python3",
      "display_name": "Python 3"
    },
    "language_info": {
      "name": "python"
    },
    "accelerator": "GPU",
    "gpuClass": "standard"
  },
  "cells": [
    {
      "cell_type": "markdown",
      "metadata": {
        "id": "view-in-github",
        "colab_type": "text"
      },
      "source": [
        "<a href=\"https://colab.research.google.com/github/DanielCG19/DeepLearning-CC6204/blob/main/CC6204_Tarea_3.ipynb\" target=\"_parent\"><img src=\"https://colab.research.google.com/assets/colab-badge.svg\" alt=\"Open In Colab\"/></a>"
      ]
    },
    {
      "cell_type": "markdown",
      "source": [
        "# Clasificación de Células Sanguíneas\n",
        "\n",
        "En el proceso de diagnóstico de enfermedades, el estudio de la cantidad de células sanguíneas juega un papel importante para determinar factores que explican una enfermedad. En esta tarea, la idea es implementar el modelo de deep-learning más efectivo posible para clasificar células sanguíneas. Las clases de células sanguíneas son: [Eosinophil, Lymphocyte, Monocyte, Neutrophil]\n"
      ],
      "metadata": {
        "id": "BDpprF1q-DUV"
      }
    },
    {
      "cell_type": "code",
      "execution_count": null,
      "metadata": {
        "id": "3wTtQLgCTIxO"
      },
      "outputs": [],
      "source": [
        "#Instalamos el paquete gdown para poder descargar el dataset desde el gdrive\n",
        "!pip install gdown"
      ]
    },
    {
      "cell_type": "code",
      "source": [
        "#Descargamos el dataset\n",
        "import gdown\n",
        "output = 'blood.zip'\n",
        "gdown.download(id='1CUQjT45tJmqNv_p2HcDkr4Z-IDQEbRg3', output=output, quiet=False)"
      ],
      "metadata": {
        "id": "LIKf7VHgTe1x"
      },
      "execution_count": null,
      "outputs": []
    },
    {
      "cell_type": "code",
      "source": [
        "# Descomprimimos el dataset\n",
        "!unzip blood.zip"
      ],
      "metadata": {
        "id": "1xojka5cUky5"
      },
      "execution_count": null,
      "outputs": []
    },
    {
      "cell_type": "markdown",
      "source": [
        "Implementa la mejor red neuronal posible. Tú decides si usas una red creada por ti mismo o si empleas transfer-learning. Entrena la red con los datos en la carpeta \"TRAIN\" y usa los datos en \"VAL\" como validación.\n",
        "\n",
        "Para medir el performance final, realiza las inferencias sobre los datos del conjunto \"TEST\" y computa el accuracy sobre el conjunto de test. El accuracy es la proporción de imágenes para las cuales la predicción es correcta. IMPORTANTE: el accuracy de test se calcula una sola vez cuando hayas finalizado todos tus experimentos. Para tomar decisiones sobre el modelo y sus hiperparámetros solo puedes usar el conjunto de entrenamiento y validación.\n",
        "\n",
        "Detalla todos los experimentos que hiciste y cómo llegaste a la mejor red neuronal reportada. Discute los resultados, comparando los distintos experimentos que tomaste en cuenta y responde a la pregunta: Porqué tu modelo final fue el mejor de todo lo que probaste?\n",
        "\n",
        "IMPORTANTE: Evita el overfitting a toda costa. Un modelo con overfitting es aquel que durante el entrenamiento las curvas de loss/accuracy para datos de entrenamiento y validación se separan considerablemente. \n",
        "\n",
        "Éxitos!"
      ],
      "metadata": {
        "id": "rzyQ_QmRE-co"
      }
    },
    {
      "cell_type": "code",
      "source": [],
      "metadata": {
        "id": "MSz9IkMvFhuU"
      },
      "execution_count": null,
      "outputs": []
    }
  ]
}